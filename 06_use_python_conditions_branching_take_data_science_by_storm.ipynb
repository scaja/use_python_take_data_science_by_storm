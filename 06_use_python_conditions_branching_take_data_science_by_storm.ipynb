{
 "cells": [
  {
   "cell_type": "markdown",
   "metadata": {},
   "source": [
    "# **Use python conditions! ... and take data science by storm**"
   ]
  },
  {
   "cell_type": "markdown",
   "metadata": {},
   "source": [
    "### create number"
   ]
  },
  {
   "cell_type": "code",
   "execution_count": 29,
   "metadata": {},
   "outputs": [
    {
     "name": "stdout",
     "output_type": "stream",
     "text": [
      "Birmingham\n",
      "Phoenix\n",
      "63\n",
      "37\n"
     ]
    }
   ],
   "source": [
    "text_file = \"Bikeshare_Scooter_Systems.csv\"\n",
    "with open(text_file) as open_text_file:\n",
    "    read_text_file = open_text_file.readlines()\n",
    "    test_line = read_text_file[1].replace('\\n','')\n",
    "    test_list = test_line.split(',')\n",
    "    test_str = test_list[2]\n",
    "    test_number = int(test_list[5])\n",
    "   \n",
    "    test_line_1 = read_text_file[2].replace('\\n','')\n",
    "    test_list_1 = test_line_1.split(',')\n",
    "    test_str_1 = test_list_1[2]\n",
    "    test_number_1 = int(test_list_1[5])\n",
    "\n",
    "print(test_str)\n",
    "print(test_str_1)\n",
    "print(test_number)\n",
    "print(test_number_1)"
   ]
  },
  {
   "cell_type": "markdown",
   "metadata": {},
   "source": [
    "### operators"
   ]
  },
  {
   "cell_type": "code",
   "execution_count": 30,
   "metadata": {},
   "outputs": [
    {
     "name": "stdout",
     "output_type": "stream",
     "text": [
      "False\n",
      "True\n",
      "True\n",
      "False\n",
      "False\n",
      "True\n"
     ]
    }
   ],
   "source": [
    "print(test_number == test_number_1)\n",
    "print(test_number > test_number_1)\n",
    "print(test_number != test_number_1)\n",
    "\n",
    "print(test_str == test_str_1)\n",
    "print(test_str > test_str_1)\n",
    "print(test_str != test_str_1)\n"
   ]
  },
  {
   "cell_type": "markdown",
   "metadata": {},
   "source": [
    "### condition"
   ]
  },
  {
   "cell_type": "code",
   "execution_count": 31,
   "metadata": {},
   "outputs": [
    {
     "name": "stdout",
     "output_type": "stream",
     "text": [
      "true\n",
      "end\n"
     ]
    }
   ],
   "source": [
    "if test_number > test_number_1:\n",
    "    print(\"true\")\n",
    "print(\"end\")"
   ]
  },
  {
   "cell_type": "code",
   "execution_count": 32,
   "metadata": {},
   "outputs": [
    {
     "name": "stdout",
     "output_type": "stream",
     "text": [
      "true\n",
      "end\n"
     ]
    }
   ],
   "source": [
    "if test_number > test_number_1:\n",
    "    print(\"true\")\n",
    "else:\n",
    "    print(\"false\")\n",
    "print(\"end\")"
   ]
  },
  {
   "cell_type": "code",
   "execution_count": 33,
   "metadata": {},
   "outputs": [
    {
     "name": "stdout",
     "output_type": "stream",
     "text": [
      "elif true\n",
      "end\n"
     ]
    }
   ],
   "source": [
    "if test_number == test_number_1:\n",
    "    print(\"if true\")\n",
    "elif test_number > test_number_1:\n",
    "    print(\"elif true\")\n",
    "else:\n",
    "    print(\"false\")\n",
    "print(\"end\")"
   ]
  },
  {
   "cell_type": "markdown",
   "metadata": {},
   "source": [
    "### logical operator"
   ]
  },
  {
   "cell_type": "code",
   "execution_count": 38,
   "metadata": {},
   "outputs": [
    {
     "name": "stdout",
     "output_type": "stream",
     "text": [
      "elif true 1\n",
      "end\n"
     ]
    }
   ],
   "source": [
    "if (test_number == test_number_1) and (test_str == test_str_1):\n",
    "    print(\"if true\")\n",
    "elif not(test_number == test_number_1) and not(test_str == test_str_1):\n",
    "    print(\"elif true 1\")\n",
    "elif (test_number == test_number_1) or (test_str == test_str_1):\n",
    "    print(\"elif true 2\")\n",
    "else:\n",
    "    print(\"false\")\n",
    "print(\"end\")\n"
   ]
  }
 ],
 "metadata": {
  "kernelspec": {
   "display_name": "scaja_data_notebooks",
   "language": "python",
   "name": "python3"
  },
  "language_info": {
   "codemirror_mode": {
    "name": "ipython",
    "version": 3
   },
   "file_extension": ".py",
   "mimetype": "text/x-python",
   "name": "python",
   "nbconvert_exporter": "python",
   "pygments_lexer": "ipython3",
   "version": "3.11.7"
  }
 },
 "nbformat": 4,
 "nbformat_minor": 2
}
