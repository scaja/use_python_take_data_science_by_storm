{
 "cells": [
  {
   "cell_type": "markdown",
   "metadata": {},
   "source": [
    "# **Use python sets! ... and take data science by storm**"
   ]
  },
  {
   "cell_type": "markdown",
   "metadata": {},
   "source": [
    "### create set"
   ]
  },
  {
   "cell_type": "code",
   "execution_count": 23,
   "metadata": {},
   "outputs": [
    {
     "name": "stdout",
     "output_type": "stream",
     "text": [
      "{'1', 'AL001', '63', 'Birmingham', '2015', 'AL', 'Zyp BikeShare'}\n",
      "{'Grid', 'Phoenix', '2', 'AZ006', '2015', '37', 'AZ'}\n"
     ]
    }
   ],
   "source": [
    "text_file = \"Bikeshare_Scooter_Systems.csv\"\n",
    "with open(text_file) as open_text_file:\n",
    "    read_text_file = open_text_file.readlines()\n",
    "    test_str = read_text_file[1].replace('\\n','')\n",
    "    test_list = test_str.split(',')\n",
    "    test_set = set(test_list)\n",
    "\n",
    "    test_str_1 = read_text_file[2].replace('\\n','')\n",
    "    test_list_1 = test_str_1.split(',')\n",
    "    test_set_1 = set(test_list_1)\n",
    "print(test_set)\n",
    "print(test_set_1)"
   ]
  },
  {
   "cell_type": "markdown",
   "metadata": {},
   "source": [
    "### set operations"
   ]
  },
  {
   "cell_type": "code",
   "execution_count": 24,
   "metadata": {},
   "outputs": [
    {
     "name": "stdout",
     "output_type": "stream",
     "text": [
      "{'1', 'AL001', '63', 'Birmingham', '2015', 'AL', 'apple', 'Zyp BikeShare'}\n",
      "{'1', 'AL001', '63', 'Birmingham', '2015', 'apple', 'Zyp BikeShare'}\n"
     ]
    }
   ],
   "source": [
    "test_set.add('apple')\n",
    "test_set.add('apple')\n",
    "test_set.add('apple')\n",
    "print(test_set)\n",
    "test_set.remove('AL')\n",
    "print(test_set)"
   ]
  },
  {
   "cell_type": "markdown",
   "metadata": {},
   "source": [
    "### use logic operations"
   ]
  },
  {
   "cell_type": "code",
   "execution_count": 26,
   "metadata": {},
   "outputs": [
    {
     "name": "stdout",
     "output_type": "stream",
     "text": [
      "{'1', 'AL001', '63', 'Birmingham', '2015', 'apple', 'Zyp BikeShare'}\n",
      "{'Grid', 'Phoenix', '2', 'AZ006', '2015', '37', 'AZ'}\n"
     ]
    }
   ],
   "source": [
    "print(test_set)\n",
    "print(test_set_1)"
   ]
  },
  {
   "cell_type": "code",
   "execution_count": 30,
   "metadata": {},
   "outputs": [
    {
     "name": "stdout",
     "output_type": "stream",
     "text": [
      "{'2015'}\n",
      "{'1', 'AL001', '63', 'Birmingham', 'apple', 'Zyp BikeShare'}\n",
      "{'1', 'Grid', 'Phoenix', 'AL001', '2', '63', 'Birmingham', 'AZ006', '2015', '37', 'AZ', 'apple', 'Zyp BikeShare'}\n",
      "False\n",
      "False\n"
     ]
    }
   ],
   "source": [
    "intersection = test_set & test_set_1\n",
    "print(test_set.intersection(test_set_1))\n",
    "print(test_set.difference(test_set_1))\n",
    "print(test_set.union(test_set_1))\n",
    "print(test_set.issuperset(test_set_1))\n",
    "print(test_set.issubset(test_set_1))"
   ]
  },
  {
   "cell_type": "markdown",
   "metadata": {},
   "source": [
    "### sets are not subscriptable"
   ]
  }
 ],
 "metadata": {
  "kernelspec": {
   "display_name": "scaja_data_notebooks",
   "language": "python",
   "name": "python3"
  },
  "language_info": {
   "codemirror_mode": {
    "name": "ipython",
    "version": 3
   },
   "file_extension": ".py",
   "mimetype": "text/x-python",
   "name": "python",
   "nbconvert_exporter": "python",
   "pygments_lexer": "ipython3",
   "version": "3.11.7"
  }
 },
 "nbformat": 4,
 "nbformat_minor": 2
}
