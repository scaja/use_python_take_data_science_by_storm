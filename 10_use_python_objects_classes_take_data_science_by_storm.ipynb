{
 "cells": [
  {
   "cell_type": "markdown",
   "metadata": {},
   "source": [
    "# **Use python object and classes! ... and take data science by storm**"
   ]
  },
  {
   "cell_type": "markdown",
   "metadata": {},
   "source": [
    "### create list"
   ]
  },
  {
   "cell_type": "code",
   "execution_count": 24,
   "metadata": {},
   "outputs": [
    {
     "name": "stdout",
     "output_type": "stream",
     "text": [
      "['2', 'AZ006', 'Phoenix', 'AZ', '2015', '37', 'Grid']\n"
     ]
    }
   ],
   "source": [
    "text_file = \"Bikeshare_Scooter_Systems.csv\"\n",
    "with open(text_file) as open_text_file:\n",
    "    read_text_file = open_text_file.readlines()\n",
    "    test_str = read_text_file[2].replace('\\n','')\n",
    "    test_list = test_str.split(',')\n",
    "    print(test_list)"
   ]
  },
  {
   "cell_type": "markdown",
   "metadata": {},
   "source": [
    "### initalize object"
   ]
  },
  {
   "cell_type": "code",
   "execution_count": 25,
   "metadata": {},
   "outputs": [],
   "source": [
    "class bikeshare_scooter_system(object):\n",
    "    # Constuctor\n",
    "    def __init__(self, test_list):\n",
    "        self.objectid = int(test_list[0])\n",
    "        self.placeid = test_list[1]\n",
    "        self.city = test_list[2]\n",
    "        self.state = test_list[3]\n",
    "        self.year = int(test_list[4])\n",
    "        self.dockid = int(test_list[5])\n",
    "        self.docknm = test_list[6]\n",
    "\n",
    "    # Method\n",
    "    def time_difference(self, date):\n",
    "        time_difference = date - self.year\n",
    "        print(time_difference)\n",
    "        \n",
    "bikeshare_scooter_system = bikeshare_scooter_system(test_list)"
   ]
  },
  {
   "cell_type": "markdown",
   "metadata": {},
   "source": [
    "### access object"
   ]
  },
  {
   "cell_type": "code",
   "execution_count": 27,
   "metadata": {},
   "outputs": [
    {
     "name": "stdout",
     "output_type": "stream",
     "text": [
      "2015\n",
      "Phoenix\n",
      "9\n",
      "None\n"
     ]
    }
   ],
   "source": [
    "print(bikeshare_scooter_system.year)\n",
    "print(bikeshare_scooter_system.city)\n",
    "print(bikeshare_scooter_system.time_difference(2024))"
   ]
  }
 ],
 "metadata": {
  "kernelspec": {
   "display_name": "scaja_data_notebooks",
   "language": "python",
   "name": "python3"
  },
  "language_info": {
   "codemirror_mode": {
    "name": "ipython",
    "version": 3
   },
   "file_extension": ".py",
   "mimetype": "text/x-python",
   "name": "python",
   "nbconvert_exporter": "python",
   "pygments_lexer": "ipython3",
   "version": "3.11.7"
  }
 },
 "nbformat": 4,
 "nbformat_minor": 2
}
