{
 "cells": [
  {
   "cell_type": "markdown",
   "metadata": {},
   "source": [
    "# **Use python lists! ... and take data science by storm**"
   ]
  },
  {
   "cell_type": "markdown",
   "metadata": {},
   "source": [
    "### create list"
   ]
  },
  {
   "cell_type": "code",
   "execution_count": 21,
   "metadata": {},
   "outputs": [],
   "source": [
    "text_file = \"Bikeshare_Scooter_Systems.csv\"\n",
    "with open(text_file) as open_text_file:\n",
    "    read_text_file = open_text_file.readlines()\n",
    "    test_str = read_text_file[1].replace('\\n','')\n",
    "    test_list = test_str.split(',')    "
   ]
  },
  {
   "cell_type": "markdown",
   "metadata": {},
   "source": [
    "### Access list"
   ]
  },
  {
   "cell_type": "code",
   "execution_count": 22,
   "metadata": {},
   "outputs": [
    {
     "name": "stdout",
     "output_type": "stream",
     "text": [
      "['1', 'AL001', 'Birmingham', 'AL', '2015', '63', 'Zyp BikeShare']\n",
      "Birmingham\n",
      "63\n"
     ]
    }
   ],
   "source": [
    "print(test_list)\n",
    "print(test_list[2])\n",
    "print(test_list[-2])"
   ]
  },
  {
   "cell_type": "markdown",
   "metadata": {},
   "source": [
    "### list operations"
   ]
  },
  {
   "cell_type": "code",
   "execution_count": 23,
   "metadata": {},
   "outputs": [
    {
     "name": "stdout",
     "output_type": "stream",
     "text": [
      "['1', 'AL001', 'Birmingham', 'AL', '2015', '63', 'Zyp BikeShare', 'next', 'item']\n"
     ]
    }
   ],
   "source": [
    "test_list.extend(['next','item'])\n",
    "print(test_list)"
   ]
  },
  {
   "cell_type": "code",
   "execution_count": 24,
   "metadata": {},
   "outputs": [
    {
     "name": "stdout",
     "output_type": "stream",
     "text": [
      "['1', 'AL001', 'Birmingham', 'AL', '2015', '63', 'Zyp BikeShare', 'next', 'item', ['another', 'item']]\n"
     ]
    }
   ],
   "source": [
    "test_list.append(['another','item'])\n",
    "print(test_list)"
   ]
  },
  {
   "cell_type": "code",
   "execution_count": 25,
   "metadata": {},
   "outputs": [
    {
     "name": "stdout",
     "output_type": "stream",
     "text": [
      "['change', 'AL001', 'Birmingham', 'AL', '2015', '63', 'Zyp BikeShare', 'next', 'item', ['another', 'item']]\n"
     ]
    }
   ],
   "source": [
    "test_list[0] = 'change'\n",
    "print(test_list)"
   ]
  },
  {
   "cell_type": "code",
   "execution_count": 26,
   "metadata": {},
   "outputs": [],
   "source": [
    "del(test_list[0])"
   ]
  },
  {
   "cell_type": "markdown",
   "metadata": {},
   "source": [
    "### copy list"
   ]
  },
  {
   "cell_type": "code",
   "execution_count": 27,
   "metadata": {},
   "outputs": [
    {
     "name": "stdout",
     "output_type": "stream",
     "text": [
      "['AL001', 'Birmingham', 'AL', '2015', '63', 'Zyp BikeShare', 'next', 'item', ['another', 'item']]\n",
      "['AL001', 'Birmingham', 'AL', '2015', '63', 'Zyp BikeShare', 'next', 'item', ['another', 'item']]\n",
      "B[0]: AL001\n",
      "B[0]: onion\n"
     ]
    }
   ],
   "source": [
    "test_list_A = test_list\n",
    "print(test_list)\n",
    "print(test_list_A)\n",
    "\n",
    "print('B[0]:', test_list_A[0])\n",
    "test_list[0] = 'onion'\n",
    "print('B[0]:', test_list_A[0])\n"
   ]
  },
  {
   "cell_type": "markdown",
   "metadata": {},
   "source": [
    "### clone list "
   ]
  },
  {
   "cell_type": "code",
   "execution_count": 28,
   "metadata": {},
   "outputs": [
    {
     "name": "stdout",
     "output_type": "stream",
     "text": [
      "['onion', 'Birmingham', 'AL', '2015', '63', 'Zyp BikeShare', 'next', 'item', ['another', 'item']]\n",
      "B[0]: onion\n",
      "B[0]: onion\n"
     ]
    }
   ],
   "source": [
    "test_list_B = test_list[:]\n",
    "print(test_list_B)\n",
    "print('B[0]:', test_list_B[0])\n",
    "test_list[0] = 'apple'\n",
    "print('B[0]:', test_list_B[0])"
   ]
  },
  {
   "cell_type": "markdown",
   "metadata": {},
   "source": [
    "### list are mutable"
   ]
  }
 ],
 "metadata": {
  "kernelspec": {
   "display_name": "scaja_data_notebooks",
   "language": "python",
   "name": "python3"
  },
  "language_info": {
   "codemirror_mode": {
    "name": "ipython",
    "version": 3
   },
   "file_extension": ".py",
   "mimetype": "text/x-python",
   "name": "python",
   "nbconvert_exporter": "python",
   "pygments_lexer": "ipython3",
   "version": "3.11.7"
  }
 },
 "nbformat": 4,
 "nbformat_minor": 2
}
