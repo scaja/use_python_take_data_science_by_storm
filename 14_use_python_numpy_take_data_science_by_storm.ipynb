{
 "cells": [
  {
   "cell_type": "markdown",
   "metadata": {},
   "source": [
    "# **Use python numpy! ... and take data science by storm**"
   ]
  },
  {
   "cell_type": "markdown",
   "metadata": {},
   "source": [
    "### read csv"
   ]
  },
  {
   "cell_type": "code",
   "execution_count": 202,
   "metadata": {},
   "outputs": [
    {
     "name": "stdout",
     "output_type": "stream",
     "text": [
      "read successfully\n"
     ]
    }
   ],
   "source": [
    "import pandas as pd \n",
    "test_pandas_dataframe = pd.read_csv(\"./Bikeshare_Scooter_Systems.csv\") \n",
    "print('read successfully')"
   ]
  },
  {
   "cell_type": "markdown",
   "metadata": {},
   "source": [
    "### import numpy"
   ]
  },
  {
   "cell_type": "code",
   "execution_count": 201,
   "metadata": {},
   "outputs": [],
   "source": [
    "import numpy as np"
   ]
  },
  {
   "cell_type": "markdown",
   "metadata": {},
   "source": [
    "### get numeric array"
   ]
  },
  {
   "cell_type": "code",
   "execution_count": 203,
   "metadata": {},
   "outputs": [
    {
     "name": "stdout",
     "output_type": "stream",
     "text": [
      "[[2015 '63']\n",
      " [2015 '37']\n",
      " [2015 '59']\n",
      " [2015 '42']\n",
      " [2015 '75']\n",
      " [2015 '39']\n",
      " [2015 '27']\n",
      " [2015 '11']\n",
      " [2015 '7']\n",
      " [2015 '56']\n",
      " [2015 '12']]\n"
     ]
    }
   ],
   "source": [
    "test_pandas_dataframe_numeric = test_pandas_dataframe.loc[0:10, 'year':'dockid']\n",
    "test_numpy_array = test_pandas_dataframe_numeric.to_numpy()\n",
    "print(test_numpy_array)"
   ]
  },
  {
   "cell_type": "markdown",
   "metadata": {},
   "source": [
    "### numpy manipulation array operations"
   ]
  },
  {
   "cell_type": "code",
   "execution_count": 204,
   "metadata": {},
   "outputs": [
    {
     "name": "stdout",
     "output_type": "stream",
     "text": [
      "<class 'numpy.ndarray'>\n",
      "object\n",
      "2\n",
      "22\n",
      "(11, 2)\n"
     ]
    }
   ],
   "source": [
    "print(type(test_numpy_array))\n",
    "print(test_numpy_array.dtype)\n",
    "print(test_numpy_array.ndim)\n",
    "print(test_numpy_array.size)\n",
    "print(test_numpy_array.shape)"
   ]
  },
  {
   "cell_type": "code",
   "execution_count": 205,
   "metadata": {},
   "outputs": [
    {
     "name": "stdout",
     "output_type": "stream",
     "text": [
      "a[0]: [2015 '63']\n",
      "a[0]: 2015\n",
      "2016\n"
     ]
    }
   ],
   "source": [
    "\n",
    "print(\"a[0]:\" , test_numpy_array[0])\n",
    "print(\"a[0]:\" , test_numpy_array[1][0])\n",
    "\n",
    "test_numpy_array[1][0] = 2016\n",
    "print(test_numpy_array[1][0])\n"
   ]
  },
  {
   "cell_type": "code",
   "execution_count": 206,
   "metadata": {},
   "outputs": [
    {
     "name": "stdout",
     "output_type": "stream",
     "text": [
      "[[2015 '63']]\n",
      "['37' '59' '42' '75']\n",
      "[2015 2015 2015 2015]\n"
     ]
    }
   ],
   "source": [
    "sliced_test_numpy_array_1 = test_numpy_array[0:1]\n",
    "print(sliced_test_numpy_array_1)\n",
    "\n",
    "sliced_test_numpy_array_2 = test_pandas_dataframe_numeric['dockid'].to_numpy()[1:5:1]\n",
    "print(sliced_test_numpy_array_2)\n",
    "\n",
    "sliced_test_numpy_array_3 = test_pandas_dataframe_numeric['year'].to_numpy()[1:5:1]\n",
    "print(sliced_test_numpy_array_3)\n"
   ]
  },
  {
   "cell_type": "markdown",
   "metadata": {},
   "source": [
    "### numpy statistic array operations"
   ]
  },
  {
   "cell_type": "code",
   "execution_count": 207,
   "metadata": {},
   "outputs": [
    {
     "name": "stdout",
     "output_type": "stream",
     "text": [
      "53.25\n",
      "14.972892172189045\n",
      "75\n",
      "37\n"
     ]
    }
   ],
   "source": [
    "sliced_test_numpy_array_2 = sliced_test_numpy_array_2.astype(int)\n",
    "print(sliced_test_numpy_array_2.mean())\n",
    "print(sliced_test_numpy_array_2.std())\n",
    "print(sliced_test_numpy_array_2.max())\n",
    "print(sliced_test_numpy_array_2.min())"
   ]
  },
  {
   "cell_type": "markdown",
   "metadata": {},
   "source": [
    "### numpy calculation array operation"
   ]
  },
  {
   "cell_type": "code",
   "execution_count": 208,
   "metadata": {},
   "outputs": [
    {
     "name": "stdout",
     "output_type": "stream",
     "text": [
      "[38 60 43 76]\n",
      "[2052 2074 2057 2090]\n",
      "[-1978 -1956 -1973 -1940]\n",
      "[ 74555 118885  84630 151125]\n",
      "[0.01836228 0.0292804  0.02084367 0.03722084]\n",
      "429195\n"
     ]
    }
   ],
   "source": [
    "print(sliced_test_numpy_array_2+1)\n",
    "print(np.add(sliced_test_numpy_array_2,sliced_test_numpy_array_3))\n",
    "print(np.subtract(sliced_test_numpy_array_2,sliced_test_numpy_array_3))\n",
    "print(np.multiply(sliced_test_numpy_array_2,sliced_test_numpy_array_3))\n",
    "print(np.divide(sliced_test_numpy_array_2,sliced_test_numpy_array_3))\n",
    "print(np.dot(sliced_test_numpy_array_2,sliced_test_numpy_array_3))"
   ]
  },
  {
   "cell_type": "markdown",
   "metadata": {},
   "source": [
    "### mathematical functions"
   ]
  },
  {
   "cell_type": "code",
   "execution_count": 211,
   "metadata": {},
   "outputs": [
    {
     "name": "stdout",
     "output_type": "stream",
     "text": [
      "3.141592653589793\n",
      "0.8414709848078965\n",
      "[-2. -1.  0.  1.  2.]\n"
     ]
    }
   ],
   "source": [
    "print(np.pi)\n",
    "print(np.sin(1))\n",
    "print(np.linspace(-2,2,num=5))\n",
    "sinus = np.sin(np.linspace(0,2*np.pi,num=100))\n",
    "#plt.plot(sinus)\n"
   ]
  }
 ],
 "metadata": {
  "kernelspec": {
   "display_name": "scaja_data_notebooks",
   "language": "python",
   "name": "python3"
  },
  "language_info": {
   "codemirror_mode": {
    "name": "ipython",
    "version": 3
   },
   "file_extension": ".py",
   "mimetype": "text/x-python",
   "name": "python",
   "nbconvert_exporter": "python",
   "pygments_lexer": "ipython3",
   "version": "3.11.7"
  }
 },
 "nbformat": 4,
 "nbformat_minor": 2
}
