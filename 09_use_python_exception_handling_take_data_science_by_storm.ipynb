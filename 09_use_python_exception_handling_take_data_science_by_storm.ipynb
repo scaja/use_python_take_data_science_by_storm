{
 "cells": [
  {
   "cell_type": "markdown",
   "metadata": {},
   "source": [
    "# **Use python exception handling! ... and take data science by storm**"
   ]
  },
  {
   "cell_type": "markdown",
   "metadata": {},
   "source": [
    "### Create number"
   ]
  },
  {
   "cell_type": "code",
   "execution_count": 10,
   "metadata": {},
   "outputs": [
    {
     "name": "stdout",
     "output_type": "stream",
     "text": [
      "63\n",
      "37\n"
     ]
    }
   ],
   "source": [
    "text_file = \"Bikeshare_Scooter_Systems.csv\"\n",
    "with open(text_file) as open_text_file:\n",
    "    read_text_file = open_text_file.readlines()\n",
    "    test_line = read_text_file[1].replace('\\n','')\n",
    "    test_list = test_line.split(',')\n",
    "    test_number = int(test_list[5])\n",
    "   \n",
    "    test_line_1 = read_text_file[2].replace('\\n','')\n",
    "    test_list_1 = test_line_1.split(',')\n",
    "    test_number_1 = int(test_list_1[5])\n",
    "\n",
    "print(test_number)\n",
    "print(test_number_1)"
   ]
  },
  {
   "cell_type": "markdown",
   "metadata": {},
   "source": [
    "### try except else finally"
   ]
  },
  {
   "cell_type": "code",
   "execution_count": 11,
   "metadata": {},
   "outputs": [
    {
     "name": "stdout",
     "output_type": "stream",
     "text": [
      "ZeroDivisionError\n",
      "finally\n"
     ]
    }
   ],
   "source": [
    "try:\n",
    "    num_param = 0\n",
    "    num_param = test_number/num_param\n",
    "    print(\"num_param\")\n",
    "except ZeroDivisionError:\n",
    "    print(\"ZeroDivisionError\")\n",
    "except NameError:\n",
    "    print(\"NameError\")\n",
    "except:\n",
    "    print(\"except\")\n",
    "else:\n",
    "    print(\"else\")\n",
    "finally:\n",
    "    print(\"finally\")"
   ]
  }
 ],
 "metadata": {
  "kernelspec": {
   "display_name": "scaja_data_notebooks",
   "language": "python",
   "name": "python3"
  },
  "language_info": {
   "codemirror_mode": {
    "name": "ipython",
    "version": 3
   },
   "file_extension": ".py",
   "mimetype": "text/x-python",
   "name": "python",
   "nbconvert_exporter": "python",
   "pygments_lexer": "ipython3",
   "version": "3.11.7"
  }
 },
 "nbformat": 4,
 "nbformat_minor": 2
}
