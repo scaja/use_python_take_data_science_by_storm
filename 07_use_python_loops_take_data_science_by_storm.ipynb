{
 "cells": [
  {
   "cell_type": "markdown",
   "metadata": {},
   "source": [
    "# **Use python loop! ... and take data science by storm**"
   ]
  },
  {
   "cell_type": "markdown",
   "metadata": {},
   "source": [
    "### create list"
   ]
  },
  {
   "cell_type": "code",
   "execution_count": 12,
   "metadata": {},
   "outputs": [
    {
     "name": "stdout",
     "output_type": "stream",
     "text": [
      "['1', 'AL001', 'Birmingham', 'AL', '2015', '63', 'Zyp BikeShare']\n"
     ]
    }
   ],
   "source": [
    "text_file = \"Bikeshare_Scooter_Systems.csv\"\n",
    "with open(text_file) as open_text_file:\n",
    "    read_text_file = open_text_file.readlines()\n",
    "    test_str = read_text_file[1].replace('\\n','')\n",
    "    test_list = test_str.split(',')\n",
    "print(test_list)"
   ]
  },
  {
   "cell_type": "markdown",
   "metadata": {},
   "source": [
    "### use loop"
   ]
  },
  {
   "cell_type": "code",
   "execution_count": 13,
   "metadata": {},
   "outputs": [
    {
     "name": "stdout",
     "output_type": "stream",
     "text": [
      "1\n",
      "AL001\n",
      "Birmingham\n",
      "AL\n",
      "2015\n",
      "63\n",
      "Zyp BikeShare\n",
      "1\n",
      "AL001\n",
      "Birmingham\n",
      "AL\n",
      "2015\n",
      "63\n",
      "Zyp BikeShare\n",
      "0 1\n",
      "1 AL001\n",
      "2 Birmingham\n",
      "3 AL\n",
      "4 2015\n",
      "5 63\n",
      "6 Zyp BikeShare\n"
     ]
    }
   ],
   "source": [
    "for i in range(len(test_list)):\n",
    "    print(test_list[i])\n",
    "\n",
    "for test_item in test_list:\n",
    "    print(test_item)\n",
    "\n",
    "for i, test_item in enumerate(test_list):\n",
    "    print(i,test_item)\n"
   ]
  },
  {
   "cell_type": "markdown",
   "metadata": {},
   "source": [
    "### while loop"
   ]
  },
  {
   "cell_type": "code",
   "execution_count": 15,
   "metadata": {},
   "outputs": [
    {
     "name": "stdout",
     "output_type": "stream",
     "text": [
      "1\n",
      "AL001\n",
      "Birmingham\n",
      "AL\n",
      "2015\n",
      "63\n",
      "Zyp BikeShare\n"
     ]
    }
   ],
   "source": [
    "i = 0\n",
    "while(i < len(test_list)):\n",
    "    print(test_list[i])\n",
    "    i=i+1\n"
   ]
  }
 ],
 "metadata": {
  "kernelspec": {
   "display_name": "scaja_data_notebooks",
   "language": "python",
   "name": "python3"
  },
  "language_info": {
   "codemirror_mode": {
    "name": "ipython",
    "version": 3
   },
   "file_extension": ".py",
   "mimetype": "text/x-python",
   "name": "python",
   "nbconvert_exporter": "python",
   "pygments_lexer": "ipython3",
   "version": "3.11.7"
  }
 },
 "nbformat": 4,
 "nbformat_minor": 2
}
