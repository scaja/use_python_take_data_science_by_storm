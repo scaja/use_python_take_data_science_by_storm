{
 "cells": [
  {
   "cell_type": "markdown",
   "metadata": {},
   "source": [
    "# **Use python strings! .. and take data science by storm**"
   ]
  },
  {
   "cell_type": "markdown",
   "metadata": {},
   "source": [
    "### Strings"
   ]
  },
  {
   "cell_type": "code",
   "execution_count": 99,
   "metadata": {},
   "outputs": [
    {
     "data": {
      "text/plain": [
       "'<>,%&@'"
      ]
     },
     "execution_count": 99,
     "metadata": {},
     "output_type": "execute_result"
    }
   ],
   "source": [
    "\"Ludoviko Zamenhof\" # or\n",
    "\"Ludoviko Zamenhof\" # or\n",
    "'1 2 3 4 5 6 7' # or\n",
    "'<>,%&@' # or"
   ]
  },
  {
   "cell_type": "markdown",
   "metadata": {},
   "source": [
    "### positiv and negativ indexing "
   ]
  },
  {
   "cell_type": "code",
   "execution_count": 100,
   "metadata": {},
   "outputs": [
    {
     "name": "stdout",
     "output_type": "stream",
     "text": [
      "L i m\n",
      "L e k\n"
     ]
    }
   ],
   "source": [
    "name = 'Ludoviko Zamenhof'\n",
    "print(name[0],name[5],name[11])\n",
    "print(name[0],name[-5],name[-11])"
   ]
  },
  {
   "cell_type": "markdown",
   "metadata": {},
   "source": [
    "### Slicing"
   ]
  },
  {
   "cell_type": "code",
   "execution_count": 101,
   "metadata": {},
   "outputs": [
    {
     "name": "stdout",
     "output_type": "stream",
     "text": [
      "Ludo\n",
      " Zam\n",
      "Ldvk aehf\n",
      "Ldv\n"
     ]
    }
   ],
   "source": [
    "print(name[0:4])\n",
    "print(name[8:12])\n",
    "print(name[::2])\n",
    "print(name[0:5:2])"
   ]
  },
  {
   "cell_type": "markdown",
   "metadata": {},
   "source": [
    "### Concatenate String"
   ]
  },
  {
   "cell_type": "code",
   "execution_count": 102,
   "metadata": {},
   "outputs": [
    {
     "name": "stdout",
     "output_type": "stream",
     "text": [
      "Ludoviko Zamenhof published Esperanto in the year 1887\n",
      "Ludoviko Zamenhof published Esperanto in the year 1887Ludoviko Zamenhof published Esperanto in the year 1887Ludoviko Zamenhof published Esperanto in the year 1887Ludoviko Zamenhof published Esperanto in the year 1887\n"
     ]
    }
   ],
   "source": [
    "sentence = name + \" published Esperanto in the year 1887\"\n",
    "print(sentence)\n",
    "print(4*sentence)"
   ]
  },
  {
   "cell_type": "markdown",
   "metadata": {},
   "source": [
    "### Escape Sequences"
   ]
  },
  {
   "cell_type": "code",
   "execution_count": 103,
   "metadata": {},
   "outputs": [
    {
     "name": "stdout",
     "output_type": "stream",
     "text": [
      "Ludoviko Zamenhof \t is the publisher of Esperanto\n",
      "Ludoviko Zamenhof \n",
      " is the publisher of Esperanto\n",
      "Ludoviko Zamenhof \\ is the publisher of Esperanto\n",
      "Ludoviko Zamenhof \\ is the publisher of Esperanto\n"
     ]
    }
   ],
   "source": [
    "print('Ludoviko Zamenhof \\t is the publisher of Esperanto')\n",
    "print('Ludoviko Zamenhof \\n is the publisher of Esperanto')\n",
    "print('Ludoviko Zamenhof \\\\ is the publisher of Esperanto')\n",
    "print(r'Ludoviko Zamenhof \\ is the publisher of Esperanto')"
   ]
  },
  {
   "cell_type": "markdown",
   "metadata": {},
   "source": [
    "### Manipulate string"
   ]
  },
  {
   "cell_type": "code",
   "execution_count": 104,
   "metadata": {},
   "outputs": [
    {
     "name": "stdout",
     "output_type": "stream",
     "text": [
      "Ludoviko Zamenhof published Esperanto in the year 1887\n",
      "['MR.', 'ZAMENHOF', 'PUBLISHED', 'ESPERANTO', 'IN', 'THE', 'YEAR', '1887']\n"
     ]
    }
   ],
   "source": [
    "cap_letter_sentence = sentence.upper()\n",
    "replaced_cap_letter_sentence = cap_letter_sentence.replace('LUDOVIKO','MR.')\n",
    "split_replaced_cap_letter_sentence = replaced_cap_letter_sentence.split()\n",
    "\n",
    "print(sentence)\n",
    "print(split_replaced_cap_letter_sentence)"
   ]
  },
  {
   "cell_type": "markdown",
   "metadata": {},
   "source": [
    "### Find expression"
   ]
  },
  {
   "cell_type": "code",
   "execution_count": 105,
   "metadata": {},
   "outputs": [
    {
     "name": "stdout",
     "output_type": "stream",
     "text": [
      "Ludoviko Zamenhof published Esperanto in the year 1887\n",
      "41\n",
      "-1\n"
     ]
    }
   ],
   "source": [
    "print(sentence)\n",
    "print(sentence.find('th'))\n",
    "print(sentence.find('hkauierbkfa'))"
   ]
  },
  {
   "cell_type": "markdown",
   "metadata": {},
   "source": [
    "### Regular Expressions"
   ]
  },
  {
   "cell_type": "code",
   "execution_count": 106,
   "metadata": {},
   "outputs": [
    {
     "name": "stdout",
     "output_type": "stream",
     "text": [
      "Ludoviko Zamenhof published Esperanto in the year 1887\n",
      "(50, 51)\n",
      "['1', '8', '8', '7']\n",
      "['Lud', 'vik', ' Zamenh', 'f published Esperant', ' in the year 1887']\n",
      "LudOOOvikOOO ZamenhOOOf published EsperantOOO in the year 1887\n"
     ]
    }
   ],
   "source": [
    "import re\n",
    "print(sentence)\n",
    "pattern = r\"\\d\"\n",
    "search_reg_pattern_result = re.search(r\"\\d\",sentence)\n",
    "all_reg_pattern_results = re.findall(r\"\\d\",sentence)\n",
    "split_reg_pattern_result = re.split('o',sentence)\n",
    "sub_reg_pattern_result = re.sub('o', 'OOO', sentence)\n",
    "\n",
    "print(search_reg_pattern_result.span())\n",
    "print(all_reg_pattern_results)\n",
    "print(split_reg_pattern_result)\n",
    "print(sub_reg_pattern_result)"
   ]
  }
 ],
 "metadata": {
  "kernelspec": {
   "display_name": "scaja_data_notebooks",
   "language": "python",
   "name": "python3"
  },
  "language_info": {
   "codemirror_mode": {
    "name": "ipython",
    "version": 3
   },
   "file_extension": ".py",
   "mimetype": "text/x-python",
   "name": "python",
   "nbconvert_exporter": "python",
   "pygments_lexer": "ipython3",
   "version": "3.11.7"
  }
 },
 "nbformat": 4,
 "nbformat_minor": 2
}
