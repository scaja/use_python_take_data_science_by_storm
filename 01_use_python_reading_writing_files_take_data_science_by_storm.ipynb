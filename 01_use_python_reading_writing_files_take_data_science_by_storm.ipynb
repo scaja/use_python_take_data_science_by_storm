{
 "cells": [
  {
   "cell_type": "markdown",
   "metadata": {},
   "source": [
    "# **Use python reading and writing files! ... and take data science by storm**"
   ]
  },
  {
   "cell_type": "markdown",
   "metadata": {},
   "source": [
    "## Simple way to open file"
   ]
  },
  {
   "cell_type": "markdown",
   "metadata": {},
   "source": [
    "### open file"
   ]
  },
  {
   "cell_type": "code",
   "execution_count": 48,
   "metadata": {},
   "outputs": [],
   "source": [
    "text_file = \"text.txt\"\n",
    "open_text_file = open(text_file, \"r\")"
   ]
  },
  {
   "cell_type": "markdown",
   "metadata": {},
   "source": [
    "### display file attributes like name or mode\n"
   ]
  },
  {
   "cell_type": "code",
   "execution_count": 49,
   "metadata": {},
   "outputs": [
    {
     "name": "stdout",
     "output_type": "stream",
     "text": [
      "text.txt r\n"
     ]
    }
   ],
   "source": [
    "print(open_text_file.name,open_text_file.mode)"
   ]
  },
  {
   "cell_type": "markdown",
   "metadata": {},
   "source": [
    "### read file content"
   ]
  },
  {
   "cell_type": "code",
   "execution_count": 50,
   "metadata": {},
   "outputs": [
    {
     "data": {
      "text/plain": [
       "'La internacia lingvo Esperanto estas la komuna dua lingvo de homoj en pli ol 120 landoj tutmonde.\\nLa fundamentoj de tiu ĉi lingvo, kiu kunigas popolojn, estis publikigitaj de Ludoviko Zamenhof en Varsovio en 1887.\\nEkde tiam Esperanto evoluis al vivanta lingvo kun aktiva komunumo de parolantoj kaj propra kulturo.'"
      ]
     },
     "execution_count": 50,
     "metadata": {},
     "output_type": "execute_result"
    }
   ],
   "source": [
    "read_text_file = open_text_file.read()\n",
    "read_text_file"
   ]
  },
  {
   "cell_type": "markdown",
   "metadata": {},
   "source": [
    "### display file content attributes like type or len"
   ]
  },
  {
   "cell_type": "code",
   "execution_count": 51,
   "metadata": {},
   "outputs": [
    {
     "name": "stdout",
     "output_type": "stream",
     "text": [
      "<class 'str'> 313\n"
     ]
    }
   ],
   "source": [
    "print(type(read_text_file),len(read_text_file))"
   ]
  },
  {
   "cell_type": "markdown",
   "metadata": {},
   "source": [
    "### close file to free the source"
   ]
  },
  {
   "cell_type": "code",
   "execution_count": 52,
   "metadata": {},
   "outputs": [],
   "source": [
    "open_text_file.close()"
   ]
  },
  {
   "cell_type": "markdown",
   "metadata": {},
   "source": [
    "## Sophisticated way to open file"
   ]
  },
  {
   "cell_type": "markdown",
   "metadata": {},
   "source": [
    "### open file and read file and it it closed immedatelly to free the source"
   ]
  },
  {
   "cell_type": "code",
   "execution_count": 53,
   "metadata": {},
   "outputs": [
    {
     "name": "stdout",
     "output_type": "stream",
     "text": [
      "La internacia lingvo Esperanto estas la komuna dua lingvo de homoj en pli ol 120 landoj tutmonde.\n",
      "La fundamentoj de tiu ĉi lingvo, kiu kunigas popolojn, estis publikigitaj de Ludoviko Zamenhof en Varsovio en 1887.\n",
      "Ekde tiam Esperanto evoluis al vivanta lingvo kun aktiva komunumo de parolantoj kaj propra kulturo.\n",
      "Is the file closed? True\n"
     ]
    }
   ],
   "source": [
    "with open(text_file, \"r\") as open_text_file:\n",
    "    read_text_file = open_text_file.read()\n",
    "    print(read_text_file)\n",
    "print('Is the file closed?',open_text_file.closed)\n"
   ]
  },
  {
   "cell_type": "markdown",
   "metadata": {},
   "source": [
    "## Explore the content"
   ]
  },
  {
   "cell_type": "markdown",
   "metadata": {},
   "source": [
    "### read four characters + 8 characters + twenty characters"
   ]
  },
  {
   "cell_type": "code",
   "execution_count": 54,
   "metadata": {},
   "outputs": [
    {
     "name": "stdout",
     "output_type": "stream",
     "text": [
      "La i\n",
      "nternaci\n",
      "a lingvo Esperanto e\n"
     ]
    }
   ],
   "source": [
    "with open(text_file, \"r\") as open_text_file:\n",
    "    print(open_text_file.read(4))\n",
    "    print(open_text_file.read(8))\n",
    "    print(open_text_file.read(20))"
   ]
  },
  {
   "cell_type": "markdown",
   "metadata": {},
   "source": [
    "### readline displays only one line."
   ]
  },
  {
   "cell_type": "code",
   "execution_count": 60,
   "metadata": {},
   "outputs": [
    {
     "name": "stdout",
     "output_type": "stream",
     "text": [
      "La internacia lingvo Esperanto estas la komuna dua lingvo de homoj en pli ol 120 landoj tutmonde.\n",
      "\n",
      "La fundamentoj \n",
      "de tiu ĉi lingvo, kiu kunigas popolojn, estis publikigitaj de Ludoviko Zamenhof \n"
     ]
    }
   ],
   "source": [
    "with open(text_file, \"r\") as open_text_file:\n",
    "    print(open_text_file.readline(20000))\n",
    "    print(open_text_file.readline(15))\n",
    "    print(open_text_file.read(80))"
   ]
  },
  {
   "cell_type": "markdown",
   "metadata": {},
   "source": [
    "### read all lines and access them seperatly"
   ]
  },
  {
   "cell_type": "code",
   "execution_count": 64,
   "metadata": {},
   "outputs": [
    {
     "name": "stdout",
     "output_type": "stream",
     "text": [
      "Line one: La internacia lingvo Esperanto estas la komuna dua lingvo de homoj en pli ol 120 landoj tutmonde.\n",
      "\n",
      "Line two: La fundamentoj de tiu ĉi lingvo, kiu kunigas popolojn, estis publikigitaj de Ludoviko Zamenhof en Varsovio en 1887.\n",
      "\n",
      "Line three: Ekde tiam Esperanto evoluis al vivanta lingvo kun aktiva komunumo de parolantoj kaj propra kulturo.\n"
     ]
    }
   ],
   "source": [
    "with open(text_file, \"r\") as open_text_file:\n",
    "    read_text_file = open_text_file.readlines()\n",
    "print('Line one:',read_text_file[0])\n",
    "print('Line two:',read_text_file[1])\n",
    "print('Line three:',read_text_file[2])    \n"
   ]
  },
  {
   "cell_type": "code",
   "execution_count": null,
   "metadata": {},
   "outputs": [],
   "source": []
  }
 ],
 "metadata": {
  "kernelspec": {
   "display_name": "scaja_data_notebooks",
   "language": "python",
   "name": "python3"
  },
  "language_info": {
   "codemirror_mode": {
    "name": "ipython",
    "version": 3
   },
   "file_extension": ".py",
   "mimetype": "text/x-python",
   "name": "python",
   "nbconvert_exporter": "python",
   "pygments_lexer": "ipython3",
   "version": "3.11.7"
  }
 },
 "nbformat": 4,
 "nbformat_minor": 2
}
