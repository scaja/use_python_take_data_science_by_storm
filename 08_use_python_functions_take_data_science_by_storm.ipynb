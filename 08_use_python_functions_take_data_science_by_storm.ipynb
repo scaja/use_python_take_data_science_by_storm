{
 "cells": [
  {
   "cell_type": "markdown",
   "metadata": {},
   "source": [
    "# **Use python functions! ... and take data science by storm**"
   ]
  },
  {
   "cell_type": "markdown",
   "metadata": {},
   "source": [
    "### Strings"
   ]
  },
  {
   "cell_type": "code",
   "execution_count": 19,
   "metadata": {},
   "outputs": [
    {
     "name": "stdout",
     "output_type": "stream",
     "text": [
      "read successfully\n"
     ]
    }
   ],
   "source": [
    "import pandas as pd # open source data analysis and manipulation tool\n",
    "test = pd.read_csv(\"./test.csv\") # read csv file\n",
    "print('read successfully')"
   ]
  },
  {
   "cell_type": "markdown",
   "metadata": {},
   "source": [
    "### create function"
   ]
  },
  {
   "cell_type": "code",
   "execution_count": 39,
   "metadata": {},
   "outputs": [
    {
     "name": "stdout",
     "output_type": "stream",
     "text": [
      "Peter\n",
      "Sara\n",
      "Max\n"
     ]
    }
   ],
   "source": [
    "Peter = test.iloc[0,1]\n",
    "Sara = test.iloc[1,1]\n",
    "Max = test.iloc[2,1]\n",
    "\n",
    "Taylor = test.iloc[0,2]\n",
    "Miller = test.iloc[1,2]\n",
    "Hanson = test.iloc[2,2]\n",
    "\n",
    "def my_function():\n",
    "    print(Peter)\n",
    "    print(Sara)\n",
    "    print(Max)\n",
    "\n",
    "my_function()"
   ]
  },
  {
   "cell_type": "markdown",
   "metadata": {},
   "source": [
    "### arguments"
   ]
  },
  {
   "cell_type": "code",
   "execution_count": 31,
   "metadata": {},
   "outputs": [
    {
     "name": "stdout",
     "output_type": "stream",
     "text": [
      "Peter Hase\n",
      "Sara Hase\n",
      "Max Hase\n"
     ]
    }
   ],
   "source": [
    "def my_function(name):\n",
    "    print(name + \" Hase\")\n",
    "\n",
    "my_function(Peter)\n",
    "my_function(Sara)\n",
    "my_function(Max)"
   ]
  },
  {
   "cell_type": "markdown",
   "metadata": {},
   "source": [
    "### arbitrary arguments, *args"
   ]
  },
  {
   "cell_type": "code",
   "execution_count": 37,
   "metadata": {},
   "outputs": [
    {
     "name": "stdout",
     "output_type": "stream",
     "text": [
      "The name is: Max\n"
     ]
    }
   ],
   "source": [
    "def my_function(*names):\n",
    "    print(\"The name is: \" + names[2])\n",
    "\n",
    "my_function(Peter, Sara, Max)"
   ]
  },
  {
   "cell_type": "markdown",
   "metadata": {},
   "source": [
    "### keyword arguments"
   ]
  },
  {
   "cell_type": "code",
   "execution_count": 38,
   "metadata": {},
   "outputs": [
    {
     "name": "stdout",
     "output_type": "stream",
     "text": [
      "The name is: Max\n"
     ]
    }
   ],
   "source": [
    "def my_function(name3, name2, name1):\n",
    "  print(\"The name is: \" + name3)\n",
    "\n",
    "my_function(name1 = Peter, name2 = Sara, name3 = Max) "
   ]
  },
  {
   "cell_type": "markdown",
   "metadata": {},
   "source": [
    "### Arbitrary Keyword Arguments, **kwargs"
   ]
  },
  {
   "cell_type": "code",
   "execution_count": 40,
   "metadata": {},
   "outputs": [
    {
     "name": "stdout",
     "output_type": "stream",
     "text": [
      "His last name is:  Miller\n"
     ]
    }
   ],
   "source": [
    "def my_function(**names):\n",
    "  print(\"His last name is: \" + names[\"lname\"])\n",
    "\n",
    "my_function(fname = Peter, lname = Miller) "
   ]
  },
  {
   "cell_type": "markdown",
   "metadata": {},
   "source": [
    "### default parameter value"
   ]
  },
  {
   "cell_type": "code",
   "execution_count": 42,
   "metadata": {},
   "outputs": [
    {
     "name": "stdout",
     "output_type": "stream",
     "text": [
      "I am Sara\n",
      "I am Marc\n"
     ]
    }
   ],
   "source": [
    "def my_function(name = \"Marc\"):\n",
    "  print(\"I am \" + name)\n",
    "\n",
    "my_function(Sara)\n",
    "my_function()\n",
    " "
   ]
  },
  {
   "cell_type": "markdown",
   "metadata": {},
   "source": [
    "### passing a list as an argument"
   ]
  },
  {
   "cell_type": "code",
   "execution_count": 43,
   "metadata": {},
   "outputs": [
    {
     "name": "stdout",
     "output_type": "stream",
     "text": [
      "Peter\n",
      "Sara\n",
      "Max\n"
     ]
    }
   ],
   "source": [
    "def my_function(names):\n",
    "  for name in names:\n",
    "    print(name)\n",
    "\n",
    "names = [Peter, Sara, Max]\n",
    "\n",
    "my_function(names)"
   ]
  },
  {
   "cell_type": "markdown",
   "metadata": {},
   "source": [
    "### return values"
   ]
  },
  {
   "cell_type": "code",
   "execution_count": 44,
   "metadata": {},
   "outputs": [
    {
     "name": "stdout",
     "output_type": "stream",
     "text": [
      "PeterPeterPeterPeterPeter\n",
      "SaraSaraSaraSaraSara\n",
      "MaxMaxMaxMaxMax\n"
     ]
    }
   ],
   "source": [
    "def my_function(x):\n",
    "  return 5 * x\n",
    "\n",
    "print(my_function(Peter))\n",
    "print(my_function(Sara))\n",
    "print(my_function(Max)) "
   ]
  }
 ],
 "metadata": {
  "kernelspec": {
   "display_name": "scaja_data_notebooks",
   "language": "python",
   "name": "python3"
  },
  "language_info": {
   "codemirror_mode": {
    "name": "ipython",
    "version": 3
   },
   "file_extension": ".py",
   "mimetype": "text/x-python",
   "name": "python",
   "nbconvert_exporter": "python",
   "pygments_lexer": "ipython3",
   "version": "3.11.8"
  }
 },
 "nbformat": 4,
 "nbformat_minor": 2
}
