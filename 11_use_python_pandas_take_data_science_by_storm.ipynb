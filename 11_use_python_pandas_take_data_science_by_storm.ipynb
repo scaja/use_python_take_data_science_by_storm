{
 "cells": [
  {
   "cell_type": "markdown",
   "metadata": {},
   "source": [
    "# **Use python pandas! ... and take data science by storm**"
   ]
  },
  {
   "cell_type": "markdown",
   "metadata": {},
   "source": [
    "### read csv"
   ]
  },
  {
   "cell_type": "code",
   "execution_count": 87,
   "metadata": {},
   "outputs": [
    {
     "name": "stdout",
     "output_type": "stream",
     "text": [
      "   objectid placeid           city state  year dockid  \\\n",
      "0         1   AL001     Birmingham    AL  2015     63   \n",
      "1         2   AZ006        Phoenix    AZ  2015     37   \n",
      "2         3  CA0025      San Diego    CA  2015     59   \n",
      "3         4  CA0026  San Francisco    CA  2015     42   \n",
      "4         5  CA0029      San Ramon    CA  2015     75   \n",
      "\n",
      "                                              docknm  \n",
      "0                                      Zyp BikeShare  \n",
      "1                                               Grid  \n",
      "2       DiscoverBike (was DecoBike in 2016 and 2017)  \n",
      "3  Bay Area BikeShare (became Ford GoBike 06/28/2...  \n",
      "4                                         BriteBikes  \n",
      "(795, 7)\n"
     ]
    }
   ],
   "source": [
    "import pandas as pd \n",
    "test_dataframe = pd.read_csv(\"./Bikeshare_Scooter_Systems.csv\")\n",
    "print(test_dataframe.head())\n",
    "print(test_dataframe.shape)"
   ]
  },
  {
   "cell_type": "markdown",
   "metadata": {},
   "source": [
    "### access dataframe"
   ]
  },
  {
   "cell_type": "code",
   "execution_count": 95,
   "metadata": {},
   "outputs": [
    {
     "name": "stdout",
     "output_type": "stream",
     "text": [
      "37 \n",
      "\n",
      "   objectid placeid\n",
      "0         1   AL001\n",
      "1         2   AZ006\n",
      "2         3  CA0025 \n",
      "\n",
      "San Diego \n",
      "\n",
      "  placeid        city\n",
      "0   AL001  Birmingham\n",
      "1   AZ006     Phoenix\n",
      "2  CA0025   San Diego\n"
     ]
    }
   ],
   "source": [
    "print(test_dataframe.iloc[1,5],'\\n')\n",
    "print(test_dataframe.iloc[0:3, 0:2],'\\n')\n",
    "print(test_dataframe.loc[2, 'city'],'\\n')\n",
    "print(test_dataframe.loc[0:2, 'placeid':'city'])"
   ]
  },
  {
   "cell_type": "markdown",
   "metadata": {},
   "source": [
    "### create new dataframe and series"
   ]
  },
  {
   "cell_type": "code",
   "execution_count": 92,
   "metadata": {},
   "outputs": [
    {
     "name": "stdout",
     "output_type": "stream",
     "text": [
      "0     AL001\n",
      "1     AZ006\n",
      "2    CA0025\n",
      "Name: placeid, dtype: object\n"
     ]
    }
   ],
   "source": [
    "series = test_dataframe['placeid']\n",
    "print(series.iloc[0:3])"
   ]
  },
  {
   "cell_type": "code",
   "execution_count": 93,
   "metadata": {},
   "outputs": [
    {
     "name": "stdout",
     "output_type": "stream",
     "text": [
      "  placeid\n",
      "0   AL001\n",
      "1   AZ006\n",
      "2  CA0025\n",
      "3  CA0026\n"
     ]
    }
   ],
   "source": [
    "dataframe_single = test_dataframe[[\"placeid\"]]\n",
    "print(dataframe_single.iloc[0:4])"
   ]
  },
  {
   "cell_type": "code",
   "execution_count": 94,
   "metadata": {},
   "outputs": [
    {
     "name": "stdout",
     "output_type": "stream",
     "text": [
      "  placeid        city  year\n",
      "0   AL001  Birmingham  2015\n",
      "1   AZ006     Phoenix  2015\n"
     ]
    }
   ],
   "source": [
    "dataframe_many = test_dataframe[[\"placeid\",'city', 'year']]\n",
    "print(dataframe_many.iloc[0:2])"
   ]
  },
  {
   "cell_type": "code",
   "execution_count": null,
   "metadata": {},
   "outputs": [],
   "source": []
  }
 ],
 "metadata": {
  "kernelspec": {
   "display_name": "scaja_data_notebooks",
   "language": "python",
   "name": "python3"
  },
  "language_info": {
   "codemirror_mode": {
    "name": "ipython",
    "version": 3
   },
   "file_extension": ".py",
   "mimetype": "text/x-python",
   "name": "python",
   "nbconvert_exporter": "python",
   "pygments_lexer": "ipython3",
   "version": "3.11.7"
  }
 },
 "nbformat": 4,
 "nbformat_minor": 2
}
