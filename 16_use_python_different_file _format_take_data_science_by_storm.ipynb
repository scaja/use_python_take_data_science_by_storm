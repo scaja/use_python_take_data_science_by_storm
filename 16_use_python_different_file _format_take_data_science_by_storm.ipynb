{
 "cells": [
  {
   "cell_type": "markdown",
   "metadata": {},
   "source": [
    "# **Use python file format! ... and take data science by storm**"
   ]
  },
  {
   "cell_type": "markdown",
   "metadata": {},
   "source": [
    "### read csv"
   ]
  },
  {
   "cell_type": "code",
   "execution_count": 1,
   "metadata": {},
   "outputs": [
    {
     "name": "stdout",
     "output_type": "stream",
     "text": [
      "read successfully\n"
     ]
    },
    {
     "name": "stderr",
     "output_type": "stream",
     "text": [
      "/tmp/ipykernel_4879/3257349320.py:1: DeprecationWarning: \n",
      "Pyarrow will become a required dependency of pandas in the next major release of pandas (pandas 3.0),\n",
      "(to allow more performant data types, such as the Arrow string type, and better interoperability with other libraries)\n",
      "but was not found to be installed on your system.\n",
      "If this would cause problems for you,\n",
      "please provide us feedback at https://github.com/pandas-dev/pandas/issues/54466\n",
      "        \n",
      "  import pandas as pd\n"
     ]
    }
   ],
   "source": [
    "import pandas as pd \n",
    "test_csv = pd.read_csv(\"./Bikeshare_Scooter_Systems.csv\") \n",
    "print('read successfully')"
   ]
  },
  {
   "cell_type": "markdown",
   "metadata": {},
   "source": [
    "### check dimension of dataframe"
   ]
  },
  {
   "cell_type": "code",
   "execution_count": 2,
   "metadata": {},
   "outputs": [
    {
     "name": "stdout",
     "output_type": "stream",
     "text": [
      "(795, 7)\n",
      "   objectid placeid           city state  year dockid  \\\n",
      "0         1   AL001     Birmingham    AL  2015     63   \n",
      "1         2   AZ006        Phoenix    AZ  2015     37   \n",
      "2         3  CA0025      San Diego    CA  2015     59   \n",
      "3         4  CA0026  San Francisco    CA  2015     42   \n",
      "4         5  CA0029      San Ramon    CA  2015     75   \n",
      "\n",
      "                                              docknm  \n",
      "0                                      Zyp BikeShare  \n",
      "1                                               Grid  \n",
      "2       DiscoverBike (was DecoBike in 2016 and 2017)  \n",
      "3  Bay Area BikeShare (became Ford GoBike 06/28/2...  \n",
      "4                                         BriteBikes  \n",
      "0    Birmingham\n",
      "1       Phoenix\n",
      "Name: city, dtype: object\n",
      "objectid             1\n",
      "placeid          AL001\n",
      "city        Birmingham\n",
      "Name: 0, dtype: object\n"
     ]
    }
   ],
   "source": [
    "print(test_csv.shape) \n",
    "print(test_csv.head())\n",
    "print(test_csv['city'][0:2])\n",
    "print(test_csv.loc[0][0:3])"
   ]
  },
  {
   "cell_type": "markdown",
   "metadata": {},
   "source": [
    "### create json file"
   ]
  },
  {
   "cell_type": "code",
   "execution_count": 3,
   "metadata": {},
   "outputs": [],
   "source": [
    "test_csv.loc[:0]\n",
    "test_csv.loc[:0].to_json(\"./Bikeshare_Scooter_Systems.json\", orient='records', lines=True)"
   ]
  },
  {
   "cell_type": "markdown",
   "metadata": {},
   "source": [
    "### load and dump json"
   ]
  },
  {
   "cell_type": "code",
   "execution_count": 4,
   "metadata": {},
   "outputs": [
    {
     "name": "stdout",
     "output_type": "stream",
     "text": [
      "dumped sucessfully\n"
     ]
    }
   ],
   "source": [
    "import json\n",
    "\n",
    "with open(\"./Bikeshare_Scooter_Systems.json\", 'r') as openfile:\n",
    "    json_file = json.load(openfile)\n",
    "\n",
    "with open(\"./Bikeshare_Scooter_Systems_changed.json\", 'w') as openfile:\n",
    "    json.dump(json_file ,openfile)\n",
    "print('dumped sucessfully')\n"
   ]
  },
  {
   "cell_type": "markdown",
   "metadata": {},
   "source": [
    "### create xml file"
   ]
  },
  {
   "cell_type": "code",
   "execution_count": 5,
   "metadata": {},
   "outputs": [],
   "source": [
    "import xml.etree.ElementTree as ET\n",
    "\n",
    "objectid = ET.Element('objectid')\n",
    "details = ET.SubElement(objectid, 'details')\n",
    "state = ET.SubElement(details, 'state')\n",
    "year = ET.SubElement(details, 'year')\n",
    "dockid = ET.SubElement(details, 'dockid')\n",
    "\n",
    "state.text = json_file['state']\n",
    "year.text = str(json_file['year'])\n",
    "dockid.text = str(json_file['dockid'])\n",
    "\n",
    "test_xml_file = ET.ElementTree(objectid)\n",
    "with open (\"Bikeshare_Scooter_Systems.xml\", 'wb') as file:\n",
    "    test_xml_file.write(file)\n"
   ]
  },
  {
   "cell_type": "code",
   "execution_count": 6,
   "metadata": {},
   "outputs": [
    {
     "data": {
      "text/html": [
       "<div>\n",
       "<style scoped>\n",
       "    .dataframe tbody tr th:only-of-type {\n",
       "        vertical-align: middle;\n",
       "    }\n",
       "\n",
       "    .dataframe tbody tr th {\n",
       "        vertical-align: top;\n",
       "    }\n",
       "\n",
       "    .dataframe thead th {\n",
       "        text-align: right;\n",
       "    }\n",
       "</style>\n",
       "<table border=\"1\" class=\"dataframe\">\n",
       "  <thead>\n",
       "    <tr style=\"text-align: right;\">\n",
       "      <th></th>\n",
       "      <th>state</th>\n",
       "      <th>year</th>\n",
       "      <th>dockid</th>\n",
       "    </tr>\n",
       "  </thead>\n",
       "  <tbody>\n",
       "    <tr>\n",
       "      <th>0</th>\n",
       "      <td>AL</td>\n",
       "      <td>2015</td>\n",
       "      <td>63</td>\n",
       "    </tr>\n",
       "  </tbody>\n",
       "</table>\n",
       "</div>"
      ],
      "text/plain": [
       "  state  year dockid\n",
       "0    AL  2015     63"
      ]
     },
     "execution_count": 6,
     "metadata": {},
     "output_type": "execute_result"
    }
   ],
   "source": [
    "import xml.etree.ElementTree as etree\n",
    "\n",
    "tree = etree.parse(\"Bikeshare_Scooter_Systems.xml\")\n",
    "\n",
    "root = tree.getroot()\n",
    "columns = [\"state\", \"year\", \"dockid\"]\n",
    "\n",
    "dataframe = pd.DataFrame(columns = columns)\n",
    "\n",
    "for node in root:\n",
    "\n",
    "    state = node.find(\"state\").text\n",
    "    year = node.find(\"year\").text\n",
    "    dockid = node.find(\"dockid\").text\n",
    "\n",
    "    new_row = {\"state\": state, \"year\": year, \"dockid\": dockid}\n",
    " \n",
    "    dataframe.loc[len(dataframe)] = new_row\n",
    "\n",
    "dataframe"
   ]
  }
 ],
 "metadata": {
  "kernelspec": {
   "display_name": "scaja_data_notebooks",
   "language": "python",
   "name": "python3"
  },
  "language_info": {
   "codemirror_mode": {
    "name": "ipython",
    "version": 3
   },
   "file_extension": ".py",
   "mimetype": "text/x-python",
   "name": "python",
   "nbconvert_exporter": "python",
   "pygments_lexer": "ipython3",
   "version": "3.11.7"
  }
 },
 "nbformat": 4,
 "nbformat_minor": 2
}
