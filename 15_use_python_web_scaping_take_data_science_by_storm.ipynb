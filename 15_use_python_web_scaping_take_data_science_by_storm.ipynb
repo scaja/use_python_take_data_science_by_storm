{
 "cells": [
  {
   "cell_type": "markdown",
   "metadata": {},
   "source": [
    "# **Use python beautifulSoup! ... and take data science by storm**"
   ]
  },
  {
   "cell_type": "markdown",
   "metadata": {},
   "source": [
    "### import packages"
   ]
  },
  {
   "cell_type": "code",
   "execution_count": 24,
   "metadata": {},
   "outputs": [],
   "source": [
    "from bs4 import BeautifulSoup\n",
    "import requests\n",
    "import html5lib\n"
   ]
  },
  {
   "cell_type": "markdown",
   "metadata": {},
   "source": [
    "### get html "
   ]
  },
  {
   "cell_type": "code",
   "execution_count": 39,
   "metadata": {},
   "outputs": [
    {
     "name": "stdout",
     "output_type": "stream",
     "text": [
      "<!DOCTYPE html>\n",
      "<html lang=\"de\" class=\"\">\n",
      "\n",
      "<head>\n",
      "  <meta charset=\"UTF-8\">\n",
      "  <title>Ausbau des Glasf\n"
     ]
    }
   ],
   "source": [
    "html = requests.get(\"https://www.berlin.de/aktuelles/8745964-958090-ausbau-des-glasfasernetzes-zahl-der-ansc.html\")\n",
    "print(html.text[0:100])"
   ]
  },
  {
   "cell_type": "markdown",
   "metadata": {},
   "source": [
    "### save html\n"
   ]
  },
  {
   "cell_type": "code",
   "execution_count": 54,
   "metadata": {},
   "outputs": [
    {
     "name": "stdout",
     "output_type": "stream",
     "text": [
      "Is the file closed? True\n"
     ]
    }
   ],
   "source": [
    "with open('html_file.html', mode=\"w\") as open_html_file:\n",
    "    open_html_file.write(html.text)\n",
    "print('Is the file closed?',open_html_file.closed)"
   ]
  },
  {
   "cell_type": "markdown",
   "metadata": {},
   "source": [
    "### Create soup"
   ]
  },
  {
   "cell_type": "code",
   "execution_count": 55,
   "metadata": {},
   "outputs": [
    {
     "name": "stdout",
     "output_type": "stream",
     "text": [
      "<!DOCTYPE html>\n",
      "<html class=\"\" lang=\"de\">\n",
      " <head>\n",
      "  <meta charset=\"utf-8\"/>\n",
      "  <title>\n",
      "   Ausbau des \n"
     ]
    }
   ],
   "source": [
    "soup = BeautifulSoup(html.text, \"html.parser\")\n",
    "print(soup.prettify()[0:100])"
   ]
  },
  {
   "cell_type": "markdown",
   "metadata": {},
   "source": [
    "### get title"
   ]
  },
  {
   "cell_type": "code",
   "execution_count": 75,
   "metadata": {},
   "outputs": [
    {
     "name": "stdout",
     "output_type": "stream",
     "text": [
      "tag object title: <title>Ausbau des Glasfasernetzes: Zahl der Anschlüsse 2023 verdoppelt – Berlin.de</title>\n",
      "tag object title: title\n",
      "tag object title: Ausbau des Glasfasernetzes: Zahl der Anschlüsse 2023 verdoppelt – Berlin.de\n",
      "tag object title: head\n",
      "tag object title type: <class 'bs4.element.Tag'>\n"
     ]
    }
   ],
   "source": [
    "tag_object_title = soup.title\n",
    "print(\"tag object title:\", tag_object_title)\n",
    "print(\"tag object title:\", tag_object_title.name)\n",
    "print(\"tag object title:\", tag_object_title.string)\n",
    "print(\"tag object title:\", tag_object_title.parent.name)\n",
    "print(\"tag object title type:\", type(tag_object_title))"
   ]
  },
  {
   "cell_type": "markdown",
   "metadata": {},
   "source": [
    "### get headline"
   ]
  },
  {
   "cell_type": "code",
   "execution_count": 76,
   "metadata": {},
   "outputs": [
    {
     "name": "stdout",
     "output_type": "stream",
     "text": [
      "tag object headline: <h2 class=\"heading\"><span>Barrierefreiheit</span></h2>\n",
      "tag object headline type: <class 'bs4.element.Tag'>\n"
     ]
    }
   ],
   "source": [
    "tag_object_headline = soup.h2\n",
    "print(\"tag object headline:\", tag_object_headline)\n",
    "print(\"tag object headline type:\", type(tag_object_headline))"
   ]
  },
  {
   "cell_type": "markdown",
   "metadata": {},
   "source": [
    "### get sibling"
   ]
  },
  {
   "cell_type": "code",
   "execution_count": 87,
   "metadata": {},
   "outputs": [
    {
     "name": "stdout",
     "output_type": "stream",
     "text": [
      "<button class=\"close-button js-button-overlay-close\" type=\"button\"><i aria-hidden=\"true\" class=\"fas fa-times\"></i><span class=\"aural\">Schließen: Barrierefreiheit</span></button>\n",
      "{'type': 'button', 'class': ['close-button', 'js-button-overlay-close']}\n",
      "['close-button', 'js-button-overlay-close']\n",
      "['close-button', 'js-button-overlay-close']\n"
     ]
    }
   ],
   "source": [
    "sibling = tag_object_headline.next_sibling\n",
    "print(sibling)\n",
    "print(sibling.attrs)\n",
    "print(sibling['class'])\n",
    "print(sibling.get('class'))"
   ]
  },
  {
   "cell_type": "markdown",
   "metadata": {},
   "source": [
    "### find_all"
   ]
  },
  {
   "cell_type": "code",
   "execution_count": 98,
   "metadata": {},
   "outputs": [
    {
     "name": "stdout",
     "output_type": "stream",
     "text": [
      "[<a href=\"/\"><img alt=\"Berlin.de\" class=\"logo\" src=\"/css/berlin_de/foxtrot/images/logo_berlin_m_srgb.svg\" title=\"Link zu: Startseite Berlin.de\"/></a>, <a href=\"/\" title=\"Link zu: Startseite Berlin.de\"><span class=\"institution\">Berlin.de</span><span class=\"title\">Das offizielle Hauptstadtportal</span></a>, <a data-target=\"channel--politik\" href=\"/politik-verwaltung/\">Politik und Verwaltung</a>]\n",
      "[<p class=\"article__introtext\">Mehr als ein Drittel aller Berliner Haushalte hat inzwischen einen Zugang zum Glasfasernetz der Hauptstadt.</p>]\n"
     ]
    }
   ],
   "source": [
    "\n",
    "print(soup.find_all('a', limit=3))\n",
    "print(soup.find_all('p', class_=\"article__introtext\"))"
   ]
  }
 ],
 "metadata": {
  "kernelspec": {
   "display_name": "scaja_data_notebooks",
   "language": "python",
   "name": "python3"
  },
  "language_info": {
   "codemirror_mode": {
    "name": "ipython",
    "version": 3
   },
   "file_extension": ".py",
   "mimetype": "text/x-python",
   "name": "python",
   "nbconvert_exporter": "python",
   "pygments_lexer": "ipython3",
   "version": "3.11.8"
  }
 },
 "nbformat": 4,
 "nbformat_minor": 2
}
