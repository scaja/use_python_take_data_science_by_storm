{
 "cells": [
  {
   "cell_type": "markdown",
   "metadata": {},
   "source": [
    "# **Use python tuples! ...and take data science by storm**"
   ]
  },
  {
   "cell_type": "markdown",
   "metadata": {},
   "source": [
    "### create tuple"
   ]
  },
  {
   "cell_type": "code",
   "execution_count": 56,
   "metadata": {},
   "outputs": [],
   "source": [
    "text_file = \"Bikeshare_Scooter_Systems.csv\"\n",
    "with open(text_file) as open_text_file:\n",
    "    read_text_file = open_text_file.readlines()\n",
    "    test_str = read_text_file[1].replace('\\n','')\n",
    "    test_list = test_str.split(',')\n",
    "    test_tuple = tuple(test_list)"
   ]
  },
  {
   "cell_type": "markdown",
   "metadata": {},
   "source": [
    "### Access tuple"
   ]
  },
  {
   "cell_type": "code",
   "execution_count": 57,
   "metadata": {},
   "outputs": [
    {
     "name": "stdout",
     "output_type": "stream",
     "text": [
      "('1', 'AL001', 'Birmingham', 'AL', '2015', '63', 'Zyp BikeShare')\n",
      "Birmingham\n",
      "63\n"
     ]
    }
   ],
   "source": [
    "print(test_tuple)\n",
    "print(test_tuple[2])\n",
    "print(test_tuple[-2])"
   ]
  },
  {
   "cell_type": "markdown",
   "metadata": {},
   "source": [
    "### Concatenate tuples"
   ]
  },
  {
   "cell_type": "code",
   "execution_count": 58,
   "metadata": {},
   "outputs": [
    {
     "name": "stdout",
     "output_type": "stream",
     "text": [
      "('1', 'AL001', 'Birmingham', 'AL', '2015', '63', 'Zyp BikeShare', 'orange', 14, 12.5)\n",
      "('1', 'AL001', 'Birmingham', 'AL', '2015', '63', 'Zyp BikeShare', 'orange', 14, 12.5, 'blue', (1, 5.2, 4, 3.2))\n",
      "5.2\n"
     ]
    }
   ],
   "source": [
    "concat_tuple = test_tuple + (\"orange\",14,12.5)\n",
    "nested_tuple = concat_tuple + (\"blue\",(1,5.2,4,3.2))\n",
    "print(concat_tuple)\n",
    "print(nested_tuple)\n",
    "print(nested_tuple[11][1])"
   ]
  },
  {
   "cell_type": "markdown",
   "metadata": {},
   "source": [
    "### tuple operations"
   ]
  },
  {
   "cell_type": "code",
   "execution_count": 59,
   "metadata": {},
   "outputs": [
    {
     "name": "stdout",
     "output_type": "stream",
     "text": [
      "('Birmingham', 'AL', '2015')\n",
      "10\n",
      "(1, 5.2, 4, 3.2)\n",
      "[1, 3.2, 4, 5.2]\n"
     ]
    }
   ],
   "source": [
    "print(nested_tuple[2:5])\n",
    "print(len(concat_tuple))\n",
    "numeric_tuple = nested_tuple[11]\n",
    "print(numeric_tuple)\n",
    "print(sorted(numeric_tuple))"
   ]
  },
  {
   "cell_type": "markdown",
   "metadata": {},
   "source": [
    "### tuples are immutable"
   ]
  }
 ],
 "metadata": {
  "kernelspec": {
   "display_name": "scaja_data_notebooks",
   "language": "python",
   "name": "python3"
  },
  "language_info": {
   "codemirror_mode": {
    "name": "ipython",
    "version": 3
   },
   "file_extension": ".py",
   "mimetype": "text/x-python",
   "name": "python",
   "nbconvert_exporter": "python",
   "pygments_lexer": "ipython3",
   "version": "3.11.7"
  }
 },
 "nbformat": 4,
 "nbformat_minor": 2
}
